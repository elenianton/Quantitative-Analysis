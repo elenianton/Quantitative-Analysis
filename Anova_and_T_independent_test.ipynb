{
  "nbformat": 4,
  "nbformat_minor": 0,
  "metadata": {
    "kernelspec": {
      "display_name": "Python 3",
      "language": "python",
      "name": "python3"
    },
    "language_info": {
      "codemirror_mode": {
        "name": "ipython",
        "version": 3
      },
      "file_extension": ".py",
      "mimetype": "text/x-python",
      "name": "python",
      "nbconvert_exporter": "python",
      "pygments_lexer": "ipython3",
      "version": "3.8.5"
    },
    "colab": {
      "name": "Anova and T-independent test.ipynb",
      "provenance": [],
      "collapsed_sections": [
        "i5POYAmDLel1",
        "3D6IiRPWLel4",
        "bmehZ65XBRWj"
      ],
      "toc_visible": true
    }
  },
  "cells": [
    {
      "cell_type": "code",
      "metadata": {
        "id": "i3_HMszuLelq",
        "colab": {
          "base_uri": "https://localhost:8080/"
        },
        "outputId": "6f1e4fff-c3ca-4aab-ad52-a051231a3d33"
      },
      "source": [
        "import pandas as pd\n",
        "import numpy as np\n",
        "import matplotlib.pyplot as plt\n",
        "import seaborn as sns\n",
        "from scipy import stats\n",
        "from statsmodels.formula.api import ols\n",
        "from scipy.stats import f\n",
        "from statsmodels.stats.anova import anova_lm\n",
        "from statsmodels.stats.multicomp import pairwise_tukeyhsd\n",
        "from itertools import combinations\n",
        "import math"
      ],
      "execution_count": null,
      "outputs": [
        {
          "output_type": "stream",
          "text": [
            "/usr/local/lib/python3.7/dist-packages/statsmodels/tools/_testing.py:19: FutureWarning: pandas.util.testing is deprecated. Use the functions in the public API at pandas.testing instead.\n",
            "  import pandas.util.testing as tm\n"
          ],
          "name": "stderr"
        }
      ]
    },
    {
      "cell_type": "markdown",
      "metadata": {
        "id": "PQJQO3GpLelu"
      },
      "source": [
        "- Create a dataframe using 'groupid', 'error type 1', 'error type 2', 'error type 3' and the final 'score'. Dataset contains 30 samples/ students divided into 3 groups."
      ]
    },
    {
      "cell_type": "code",
      "metadata": {
        "colab": {
          "base_uri": "https://localhost:8080/",
          "height": 204
        },
        "id": "UgXuYyo3Lelv",
        "outputId": "72c7e7db-8d45-4cca-c8ea-e8026718daeb"
      },
      "source": [
        "data = np.array([[1,7,4,27, 144.6], [2,30,26,24 ,33.2], [3,36,4,27, 86.6], [1,12,20,26, 86.8], [3,34,7,29, 81.2], [1,0,18,26,116.8], \n",
        "             [3,27,18,1, 67.8], [1,28,5,27, 99.6], [3,20,19,18, 75.4], [2,26,22,16, 54.8], [3,14,4,7, 134.6], [2, 33,13,18, 67.4],[1,27,17,11,68.8],\n",
        "                 [3,18,24,10, 66], [2,38,7,14,76.2], [1,28,18,7,64.6],[2,29,16,29,64.2], [3,27,25,22,42.6], [1,4,4,20, 152], [3,21,12,17, 94.6],\n",
        "                 [2,27,17,5,70],  [2,38,26,8, 20.4], [1,14,9,17, 117.6],  [2,39,30,2, 7.6], [3,8,12,10, 122], [1,1,19,6, 115.8], [2,24,24,24,51.2], [2,16,27,12, 60.6],\n",
        "                [1,5, 26,2, 87.6],  [3,23,29,25,38]]) \n",
        "\n",
        "\n",
        "df = pd.DataFrame(data, columns = ['groupid', 'er1','er2','er3', 'score'])\n",
        "\n",
        "# turn groupid, er1,er2,er3 columns into intiger numbers\n",
        "df1= df['groupid'].astype(int)\n",
        "df2= df['er1'].astype(int)\n",
        "df3= df['er2'].astype(int)\n",
        "df4= df['er3'].astype(int)\n",
        "df5= df['score'].astype(float)\n",
        "\n",
        "#define the final dataframe\n",
        "df= pd.concat([df1, df2, df3,df4,df5], axis=1)\n",
        "\n",
        "df.head()\n",
        "#print(df)"
      ],
      "execution_count": null,
      "outputs": [
        {
          "output_type": "execute_result",
          "data": {
            "text/html": [
              "<div>\n",
              "<style scoped>\n",
              "    .dataframe tbody tr th:only-of-type {\n",
              "        vertical-align: middle;\n",
              "    }\n",
              "\n",
              "    .dataframe tbody tr th {\n",
              "        vertical-align: top;\n",
              "    }\n",
              "\n",
              "    .dataframe thead th {\n",
              "        text-align: right;\n",
              "    }\n",
              "</style>\n",
              "<table border=\"1\" class=\"dataframe\">\n",
              "  <thead>\n",
              "    <tr style=\"text-align: right;\">\n",
              "      <th></th>\n",
              "      <th>groupid</th>\n",
              "      <th>er1</th>\n",
              "      <th>er2</th>\n",
              "      <th>er3</th>\n",
              "      <th>score</th>\n",
              "    </tr>\n",
              "  </thead>\n",
              "  <tbody>\n",
              "    <tr>\n",
              "      <th>0</th>\n",
              "      <td>1</td>\n",
              "      <td>7</td>\n",
              "      <td>4</td>\n",
              "      <td>27</td>\n",
              "      <td>144.6</td>\n",
              "    </tr>\n",
              "    <tr>\n",
              "      <th>1</th>\n",
              "      <td>2</td>\n",
              "      <td>30</td>\n",
              "      <td>26</td>\n",
              "      <td>24</td>\n",
              "      <td>33.2</td>\n",
              "    </tr>\n",
              "    <tr>\n",
              "      <th>2</th>\n",
              "      <td>3</td>\n",
              "      <td>36</td>\n",
              "      <td>4</td>\n",
              "      <td>27</td>\n",
              "      <td>86.6</td>\n",
              "    </tr>\n",
              "    <tr>\n",
              "      <th>3</th>\n",
              "      <td>1</td>\n",
              "      <td>12</td>\n",
              "      <td>20</td>\n",
              "      <td>26</td>\n",
              "      <td>86.8</td>\n",
              "    </tr>\n",
              "    <tr>\n",
              "      <th>4</th>\n",
              "      <td>3</td>\n",
              "      <td>34</td>\n",
              "      <td>7</td>\n",
              "      <td>29</td>\n",
              "      <td>81.2</td>\n",
              "    </tr>\n",
              "  </tbody>\n",
              "</table>\n",
              "</div>"
            ],
            "text/plain": [
              "   groupid  er1  er2  er3  score\n",
              "0        1    7    4   27  144.6\n",
              "1        2   30   26   24   33.2\n",
              "2        3   36    4   27   86.6\n",
              "3        1   12   20   26   86.8\n",
              "4        3   34    7   29   81.2"
            ]
          },
          "metadata": {
            "tags": []
          },
          "execution_count": 2
        }
      ]
    },
    {
      "cell_type": "markdown",
      "metadata": {
        "id": "33q-JzoxLelw"
      },
      "source": [
        "- Create a new dataframe named **\"df_a\"** that contains only 'groupid' and 'error3' columns. "
      ]
    },
    {
      "cell_type": "code",
      "metadata": {
        "colab": {
          "base_uri": "https://localhost:8080/",
          "height": 204
        },
        "id": "wRHJh8TtLelx",
        "outputId": "07e33f2b-d363-41cf-bd35-e7ccc71bc8a1"
      },
      "source": [
        "df_a = df[['groupid', 'er3']]\n",
        "\n",
        "#sort the dataframe\n",
        "df_a= df_a.iloc[df_a['groupid'].astype(int).argsort()]\n",
        "                       \n",
        "df_a.head()"
      ],
      "execution_count": null,
      "outputs": [
        {
          "output_type": "execute_result",
          "data": {
            "text/html": [
              "<div>\n",
              "<style scoped>\n",
              "    .dataframe tbody tr th:only-of-type {\n",
              "        vertical-align: middle;\n",
              "    }\n",
              "\n",
              "    .dataframe tbody tr th {\n",
              "        vertical-align: top;\n",
              "    }\n",
              "\n",
              "    .dataframe thead th {\n",
              "        text-align: right;\n",
              "    }\n",
              "</style>\n",
              "<table border=\"1\" class=\"dataframe\">\n",
              "  <thead>\n",
              "    <tr style=\"text-align: right;\">\n",
              "      <th></th>\n",
              "      <th>groupid</th>\n",
              "      <th>er3</th>\n",
              "    </tr>\n",
              "  </thead>\n",
              "  <tbody>\n",
              "    <tr>\n",
              "      <th>0</th>\n",
              "      <td>1</td>\n",
              "      <td>27</td>\n",
              "    </tr>\n",
              "    <tr>\n",
              "      <th>3</th>\n",
              "      <td>1</td>\n",
              "      <td>26</td>\n",
              "    </tr>\n",
              "    <tr>\n",
              "      <th>25</th>\n",
              "      <td>1</td>\n",
              "      <td>6</td>\n",
              "    </tr>\n",
              "    <tr>\n",
              "      <th>5</th>\n",
              "      <td>1</td>\n",
              "      <td>26</td>\n",
              "    </tr>\n",
              "    <tr>\n",
              "      <th>7</th>\n",
              "      <td>1</td>\n",
              "      <td>27</td>\n",
              "    </tr>\n",
              "  </tbody>\n",
              "</table>\n",
              "</div>"
            ],
            "text/plain": [
              "    groupid  er3\n",
              "0         1   27\n",
              "3         1   26\n",
              "25        1    6\n",
              "5         1   26\n",
              "7         1   27"
            ]
          },
          "metadata": {
            "tags": []
          },
          "execution_count": 3
        }
      ]
    },
    {
      "cell_type": "markdown",
      "metadata": {
        "id": "3oODQ2lwLelx"
      },
      "source": [
        "-  Count frequency in order to ensure that all group ids have the same number of samples."
      ]
    },
    {
      "cell_type": "code",
      "metadata": {
        "colab": {
          "base_uri": "https://localhost:8080/",
          "height": 173
        },
        "id": "awUuakiWLely",
        "outputId": "2c6efeb5-81c1-4226-d892-6ef93ddbeae4"
      },
      "source": [
        "frequency_df = df_a.groupby('groupid').count()\n",
        "frequency_df"
      ],
      "execution_count": null,
      "outputs": [
        {
          "output_type": "execute_result",
          "data": {
            "text/html": [
              "<div>\n",
              "<style scoped>\n",
              "    .dataframe tbody tr th:only-of-type {\n",
              "        vertical-align: middle;\n",
              "    }\n",
              "\n",
              "    .dataframe tbody tr th {\n",
              "        vertical-align: top;\n",
              "    }\n",
              "\n",
              "    .dataframe thead th {\n",
              "        text-align: right;\n",
              "    }\n",
              "</style>\n",
              "<table border=\"1\" class=\"dataframe\">\n",
              "  <thead>\n",
              "    <tr style=\"text-align: right;\">\n",
              "      <th></th>\n",
              "      <th>er3</th>\n",
              "    </tr>\n",
              "    <tr>\n",
              "      <th>groupid</th>\n",
              "      <th></th>\n",
              "    </tr>\n",
              "  </thead>\n",
              "  <tbody>\n",
              "    <tr>\n",
              "      <th>1</th>\n",
              "      <td>10</td>\n",
              "    </tr>\n",
              "    <tr>\n",
              "      <th>2</th>\n",
              "      <td>10</td>\n",
              "    </tr>\n",
              "    <tr>\n",
              "      <th>3</th>\n",
              "      <td>10</td>\n",
              "    </tr>\n",
              "  </tbody>\n",
              "</table>\n",
              "</div>"
            ],
            "text/plain": [
              "         er3\n",
              "groupid     \n",
              "1         10\n",
              "2         10\n",
              "3         10"
            ]
          },
          "metadata": {
            "tags": []
          },
          "execution_count": 4
        }
      ]
    },
    {
      "cell_type": "markdown",
      "metadata": {
        "id": "0YnEarGSLely"
      },
      "source": [
        "- Plot the sample data grouped into 3 groups for type 3 error.\n"
      ]
    },
    {
      "cell_type": "code",
      "metadata": {
        "colab": {
          "base_uri": "https://localhost:8080/",
          "height": 388
        },
        "id": "-TWUypf3Lelz",
        "outputId": "63da2fad-0870-4e1b-d7b7-f23186697c66"
      },
      "source": [
        "plt.figure(figsize=(10,6))\n",
        "#sort 'er3' values from 0 to 30\n",
        "ax=sns.stripplot(y= df_a['er3'].astype(int).argsort(), x= df_a['groupid'], data=df_a) \n",
        "plt.show()"
      ],
      "execution_count": null,
      "outputs": [
        {
          "output_type": "display_data",
          "data": {
            "image/png": "[encoded data removed]",
            "text/plain": [
              "<Figure size 720x432 with 1 Axes>"
            ]
          },
          "metadata": {
            "tags": [],
            "needs_background": "light"
          }
        }
      ]
    },
    {
      "cell_type": "markdown",
      "metadata": {
        "id": "JnuHSoDhLelz"
      },
      "source": [
        "**-  BOXPLOTS**"
      ]
    },
    {
      "cell_type": "code",
      "metadata": {
        "colab": {
          "base_uri": "https://localhost:8080/",
          "height": 420
        },
        "id": "IO2oqS7HLel0",
        "outputId": "7ead30fb-f67d-46b9-f28a-ec9709751b1e"
      },
      "source": [
        "df_a.boxplot(by = 'groupid', column =['er3'], grid = True, figsize=(10, 6))\n",
        "plt.show()"
      ],
      "execution_count": null,
      "outputs": [
        {
          "output_type": "display_data",
          "data": {
            "image/png": "[encoded data removed]",
            "text/plain": [
              "<Figure size 720x432 with 1 Axes>"
            ]
          },
          "metadata": {
            "tags": [],
            "needs_background": "light"
          }
        }
      ]
    },
    {
      "cell_type": "code",
      "metadata": {
        "colab": {
          "base_uri": "https://localhost:8080/",
          "height": 388
        },
        "id": "nKPpDCS8Lel0",
        "outputId": "ec317ed6-5294-4a68-ed73-ff5efac3fe8e"
      },
      "source": [
        "plt.figure(figsize=(10,6))\n",
        "ax = sns.boxplot(y='er3', x= 'groupid', data=df_a)\n",
        "plt.show()"
      ],
      "execution_count": null,
      "outputs": [
        {
          "output_type": "display_data",
          "data": {
            "image/png": "[encoded data removed]",
            "text/plain": [
              "<Figure size 720x432 with 1 Axes>"
            ]
          },
          "metadata": {
            "tags": [],
            "needs_background": "light"
          }
        }
      ]
    },
    {
      "cell_type": "markdown",
      "metadata": {
        "id": "i5POYAmDLel1"
      },
      "source": [
        "### **Anova test**\n",
        "\n",
        "Α) Υπάρχει κάποια ομάδα παιδιών που διαφοροποιείται ως προς τη μέση τιμή των λαθών είδους 1 (er1);\n",
        "\n",
        "- 3 groups\n",
        "- 10 samples per group\n",
        "- 10 values of *error 1* per group"
      ]
    },
    {
      "cell_type": "code",
      "metadata": {
        "colab": {
          "base_uri": "https://localhost:8080/",
          "height": 216
        },
        "id": "w6C4MxJ8Lel1",
        "outputId": "27b7e482-a53e-4899-c6f1-7fe3e43b04ca"
      },
      "source": [
        "groups = df_a.groupby('groupid')\n",
        "\n",
        "numbers = groups.describe(include='all')\n",
        "numbers"
      ],
      "execution_count": null,
      "outputs": [
        {
          "output_type": "error",
          "ename": "NameError",
          "evalue": "ignored",
          "traceback": [
            "\u001b[0;31m---------------------------------------------------------------------------\u001b[0m",
            "\u001b[0;31mNameError\u001b[0m                                 Traceback (most recent call last)",
            "\u001b[0;32m<ipython-input-1-592c7924e90f>\u001b[0m in \u001b[0;36m<module>\u001b[0;34m()\u001b[0m\n\u001b[0;32m----> 1\u001b[0;31m \u001b[0mgroups\u001b[0m \u001b[0;34m=\u001b[0m \u001b[0mdf_a\u001b[0m\u001b[0;34m.\u001b[0m\u001b[0mgroupby\u001b[0m\u001b[0;34m(\u001b[0m\u001b[0;34m'groupid'\u001b[0m\u001b[0;34m)\u001b[0m\u001b[0;34m\u001b[0m\u001b[0;34m\u001b[0m\u001b[0m\n\u001b[0m\u001b[1;32m      2\u001b[0m \u001b[0;34m\u001b[0m\u001b[0m\n\u001b[1;32m      3\u001b[0m \u001b[0mnumbers\u001b[0m \u001b[0;34m=\u001b[0m \u001b[0mgroups\u001b[0m\u001b[0;34m.\u001b[0m\u001b[0mdescribe\u001b[0m\u001b[0;34m(\u001b[0m\u001b[0minclude\u001b[0m\u001b[0;34m=\u001b[0m\u001b[0;34m'all'\u001b[0m\u001b[0;34m)\u001b[0m\u001b[0;34m\u001b[0m\u001b[0;34m\u001b[0m\u001b[0m\n\u001b[1;32m      4\u001b[0m \u001b[0mnumbers\u001b[0m\u001b[0;34m\u001b[0m\u001b[0;34m\u001b[0m\u001b[0m\n",
            "\u001b[0;31mNameError\u001b[0m: name 'df_a' is not defined"
          ]
        }
      ]
    },
    {
      "cell_type": "code",
      "metadata": {
        "id": "Xdg7VALLLel2"
      },
      "source": [
        "#make a dataframe that contains only group ids and number of 'errors type 1' per sample\n",
        "df_er1= df[['groupid', 'er1']]\n",
        "df_er1= df_er1.iloc[df_er1['groupid'].astype(int).argsort()]\n",
        "\n",
        "alpha = 0.05 # level of significance\n",
        "\n",
        "number_of_groups = len(df_er1['groupid'].unique())\n",
        "size_of_sample  = df_er1.shape[0]\n",
        "print(\"number_of_groups = \", number_of_groups)\n",
        "print(\"size_of_sample =\",size_of_sample)\n",
        "\n",
        "model = ols('er1 ~ C(groupid)', df_er1).fit() #data representation\n",
        "anovaResults = anova_lm(model, type=2) #calculations based on previous representations\n",
        "print(anovaResults)\n",
        "print()\n",
        "if anovaResults['PR(>F)'][0] < alpha:\n",
        "    print(\"One of the 3 groups differs.\")\n",
        "else:\n",
        "    print(\"H0 cannot be rejected\")"
      ],
      "execution_count": null,
      "outputs": []
    },
    {
      "cell_type": "code",
      "metadata": {
        "id": "QntdA6veLel2"
      },
      "source": [
        "#plot F- distribution with F-statistic and F-critical values just to confirm anova test\n",
        "x_axis = np.arange(0, 10, 0.001)\n",
        "\n",
        "dfn, dfd = 2, 27\n",
        "\n",
        "plt.plot(x_axis, f.pdf(x_axis,dfn,dfd))\n",
        "\n",
        "plt.axvline(x=9.044172, color='r', linestyle= '--') \n",
        "plt.axvline(x=2.46, color='g', linestyle= '--')  \n"
      ],
      "execution_count": null,
      "outputs": []
    },
    {
      "cell_type": "markdown",
      "metadata": {
        "id": "PSSG1E48Lel3"
      },
      "source": [
        "Β) Υπάρχει κάποια ομάδα παιδιών που διαφοροποιείται ως προς τη μέση τιμή των λαθών είδους 2 (er2);\n",
        "- 3 groups\n",
        "- 10 samples per group\n",
        "- 10 values of *error 2* per group"
      ]
    },
    {
      "cell_type": "code",
      "metadata": {
        "id": "tJ43b_HPLel3"
      },
      "source": [
        "#make a dataframe that contains only group ids and number of 'errors type 2' per sample\n",
        "df_er2= df[['groupid', 'er2']]\n",
        "df_er2= df_er2.iloc[df_er2['groupid'].astype(int).argsort()]\n",
        "\n",
        "number_of_groups = len(df_er2['groupid'].unique())\n",
        "size_of_sample  = df_er2.shape[0]\n",
        "print(\"number_of_groups = \", number_of_groups)\n",
        "print(\"size_of_sample =\",size_of_sample)\n",
        "\n",
        "model = ols('er2 ~ C(groupid)', df_er2).fit()\n",
        "anovaResults = anova_lm(model, type=2)\n",
        "print(anovaResults)\n",
        "print()\n",
        "if anovaResults['PR(>F)'][0] < alpha:\n",
        "    print(\"One of the 3 groups differs.\")\n",
        "else:\n",
        "    print(\"H0 cannot be rejected\")"
      ],
      "execution_count": null,
      "outputs": []
    },
    {
      "cell_type": "markdown",
      "metadata": {
        "id": "_hQ6ejVHLel3"
      },
      "source": [
        "Γ) Υπάρχει κάποια ομάδα παιδιών που διαφοροποιείται ως προς τη μέση τιμή των λαθών είδους 3 (er3);\n",
        "- 3 groups\n",
        "- 10 samples per group\n",
        "- 10 values of *error 3* per group\n"
      ]
    },
    {
      "cell_type": "code",
      "metadata": {
        "id": "9Ooq-3hRLel4"
      },
      "source": [
        "# use 'df_a' with 'error 3' column as before\n",
        "\n",
        "number_of_groups = len(df_a['groupid'].unique())\n",
        "size_of_sample  = df_a.shape[0]\n",
        "print(\"number_of_groups = \", number_of_groups)\n",
        "print(\"size_of_sample =\",size_of_sample)\n",
        "\n",
        "model = ols('er3 ~ C(groupid)', df_a).fit()\n",
        "anovaResults = anova_lm(model, type=2)\n",
        "print(anovaResults)\n",
        "print()\n",
        "if anovaResults['PR(>F)'][0] < alpha:\n",
        "    print(\"One of the 3 groups differs.\")\n",
        "else:\n",
        "    print(\"H0 cannot be rejected\")"
      ],
      "execution_count": null,
      "outputs": []
    },
    {
      "cell_type": "markdown",
      "metadata": {
        "id": "3D6IiRPWLel4"
      },
      "source": [
        "###  \"**Results**\":  As we can notice from the previous three Anova tests, there is a group that differs over mean value in type 1 error.  \n",
        "Let' s find which group differs."
      ]
    },
    {
      "cell_type": "markdown",
      "metadata": {
        "id": "-a4HL5FInr36"
      },
      "source": [
        "Exercise 3\n",
        "\n",
        "\n",
        "---"
      ]
    },
    {
      "cell_type": "markdown",
      "metadata": {
        "id": "b_iY_4FHLel4"
      },
      "source": [
        "# *T* - *independent* test\n",
        "- All groups are independent.\n",
        "- We need to examine type 1 error. In type 1 error we can reject null hypothesis as we can see from Anova analysis test.\n",
        "- Tukey test for examine which group differs from others. Pairwise comparisons:\n",
        "    - Group 1- Group 2\n",
        "    - Group 1- Group 3\n",
        "    - Group 2- Group 3"
      ]
    },
    {
      "cell_type": "code",
      "metadata": {
        "colab": {
          "base_uri": "https://localhost:8080/"
        },
        "id": "HbeVrPWzLel5",
        "outputId": "17140b27-3e9f-4828-a94f-4a1c5762e571"
      },
      "source": [
        "n=3\n",
        "m=2\n",
        "X = math.factorial(n) / (math.factorial(m) * math.factorial(n-m))\n",
        "print(X)\n",
        "\n",
        "#number of groups\n",
        "test_list = [1, 2, 3]\n",
        "\n",
        "#possible combinations\n",
        "res = list(combinations(test_list, m))\n",
        "\n",
        "print(\"All possible \", m, \"-tuples : \" + str(res)) \n",
        "\n",
        "num_tests = 3 #t- indepented tests\n",
        "alpha = 0.05\n",
        "PNTI = math.pow((1-alpha),num_tests)\n",
        "print(\"PNTI = \", PNTI)\n",
        "print(\"PTI = \", 1 - PNTI)"
      ],
      "execution_count": null,
      "outputs": [
        {
          "output_type": "stream",
          "text": [
            "3.0\n",
            "All possible  2 -tuples : [(1, 2), (1, 3), (2, 3)]\n",
            "PNTI =  0.8573749999999999\n",
            "PTI =  0.1426250000000001\n"
          ],
          "name": "stdout"
        }
      ]
    },
    {
      "cell_type": "code",
      "metadata": {
        "colab": {
          "base_uri": "https://localhost:8080/"
        },
        "id": "sIYcRenOLel5",
        "outputId": "31202391-aba5-4daf-a23d-0d5b77d56458"
      },
      "source": [
        "#tukey method\n",
        "tukey = pairwise_tukeyhsd(endog=df_er1['er1'],\n",
        "                          groups=df_er1['groupid'],\n",
        "                          alpha=0.05)\n",
        "print(tukey)"
      ],
      "execution_count": null,
      "outputs": [
        {
          "output_type": "stream",
          "text": [
            "Multiple Comparison of Means - Tukey HSD, FWER=0.05\n",
            "===================================================\n",
            "group1 group2 meandiff p-adj   lower  upper  reject\n",
            "---------------------------------------------------\n",
            "     1      2     17.4  0.001   7.208 27.592   True\n",
            "     1      3     10.2 0.0498   0.008 20.392   True\n",
            "     2      3     -7.2 0.2052 -17.392  2.992  False\n",
            "---------------------------------------------------\n"
          ],
          "name": "stdout"
        }
      ]
    },
    {
      "cell_type": "markdown",
      "metadata": {
        "id": "TleOB0I0SlXP"
      },
      "source": [
        "# *As we can see from tukey test,  group 1 differs from group 2 and group 3 as to mean value.*\n",
        "Let's confirm results with a boxplot. Group 1 has much smaller mean value from other groups."
      ]
    },
    {
      "cell_type": "code",
      "metadata": {
        "colab": {
          "base_uri": "https://localhost:8080/",
          "height": 388
        },
        "id": "PZNT2FVILel6",
        "outputId": "3fa253d0-78e0-423e-d9bc-ac4581be1966"
      },
      "source": [
        "plt.figure(figsize=(10,6))\n",
        "ax = sns.boxplot(y='er1', x= 'groupid', data=df_er1)\n",
        "plt.show()"
      ],
      "execution_count": null,
      "outputs": [
        {
          "output_type": "display_data",
          "data": {
            "image/png": "[encoded data removed]",
            "text/plain": [
              "<Figure size 720x432 with 1 Axes>"
            ]
          },
          "metadata": {
            "tags": [],
            "needs_background": "light"
          }
        }
      ]
    },
    {
      "cell_type": "markdown",
      "metadata": {
        "id": "0IrBzWkkmAo7"
      },
      "source": [
        "- **LINEAR MODEL**\n",
        "\n",
        "\n",
        "\n",
        "\n",
        "\n",
        "1.  Error1 (dep variable) Vs Score (Indep. variable)\n",
        "2.  Error2 (dep variable) Vs Score (Indep. variable)\n",
        "3.  Error3 (dep variable) Vs Score (Indep. variable)\n",
        "\n",
        "\n",
        "\n"
      ]
    },
    {
      "cell_type": "code",
      "metadata": {
        "colab": {
          "base_uri": "https://localhost:8080/",
          "height": 808
        },
        "id": "6dAgEvE8Lel6",
        "outputId": "15fba515-5dc2-48b2-9fda-5e726cbbbae0"
      },
      "source": [
        "plt.hist(df['er1'], bins=32, density=True, cumulative=False)\n",
        "plt.title(\"error1\")\n",
        "plt.show()\n",
        "\n",
        "plt.hist(df['er2'], bins=32, density=True, cumulative=False)\n",
        "plt.title(\"error2\") \n",
        "plt.show()\n",
        "\n",
        "\n",
        "plt.hist(df['er3'], bins=32, density=True, cumulative=False)\n",
        "plt.title(\"error3\")\n",
        "plt.show()"
      ],
      "execution_count": null,
      "outputs": [
        {
          "output_type": "display_data",
          "data": {
            "image/png": "[encoded data removed]",
            "text/plain": [
              "<Figure size 432x288 with 1 Axes>"
            ]
          },
          "metadata": {
            "tags": [],
            "needs_background": "light"
          }
        },
        {
          "output_type": "display_data",
          "data": {
            "image/png": "[encoded data removed]",
            "text/plain": [
              "<Figure size 432x288 with 1 Axes>"
            ]
          },
          "metadata": {
            "tags": [],
            "needs_background": "light"
          }
        },
        {
          "output_type": "display_data",
          "data": {
            "image/png": "[encoded data removed]",
            "text/plain": [
              "<Figure size 432x288 with 1 Axes>"
            ]
          },
          "metadata": {
            "tags": [],
            "needs_background": "light"
          }
        }
      ]
    },
    {
      "cell_type": "code",
      "metadata": {
        "colab": {
          "base_uri": "https://localhost:8080/",
          "height": 1000
        },
        "id": "SGuuQv5balZx",
        "outputId": "cfea3b05-4204-4f17-f9b7-0da1bb85d8b9"
      },
      "source": [
        "import seaborn as sns\n",
        "import pandas as pd\n",
        "import matplotlib.pyplot as plt\n",
        "import statsmodels.formula.api as smf\n",
        "from statsmodels.graphics.regressionplots import abline_plot\n",
        "\n",
        "plt.scatter(df['er1'], df['score'], color='green')\n",
        "plt.title('er1 Vs score', fontsize=14)\n",
        "plt.xlabel('er1', fontsize=14)\n",
        "plt.ylabel('score', fontsize=14)\n",
        "plt.grid(True)\n",
        "plt.show()\n",
        "\n",
        "plt.scatter(df['er2'], df['score'], color='red')\n",
        "plt.title('er2 Vs score', fontsize=14)\n",
        "plt.xlabel('er2', fontsize=14)\n",
        "plt.ylabel('score', fontsize=14)\n",
        "plt.grid(True)\n",
        "plt.show()\n",
        "\n",
        "plt.scatter(df['er3'], df['score'], color='pink')\n",
        "plt.title('er3 Vs score', fontsize=14)\n",
        "plt.xlabel('er3', fontsize=14)\n",
        "plt.ylabel('score', fontsize=14)\n",
        "plt.grid(True)\n",
        "plt.show()\n",
        "\n",
        "df"
      ],
      "execution_count": null,
      "outputs": [
        {
          "output_type": "display_data",
          "data": {
            "image/png": "[encoded data removed]",
            "text/plain": [
              "<Figure size 432x288 with 1 Axes>"
            ]
          },
          "metadata": {
            "tags": [],
            "needs_background": "light"
          }
        },
        {
          "output_type": "display_data",
          "data": {
            "image/png": "[encoded data removed]",
            "text/plain": [
              "<Figure size 432x288 with 1 Axes>"
            ]
          },
          "metadata": {
            "tags": [],
            "needs_background": "light"
          }
        },
        {
          "output_type": "display_data",
          "data": {
            "image/png": "[encoded data removed]",
            "text/plain": [
              "<Figure size 432x288 with 1 Axes>"
            ]
          },
          "metadata": {
            "tags": [],
            "needs_background": "light"
          }
        },
        {
          "output_type": "execute_result",
          "data": {
            "text/html": [
              "<div>\n",
              "<style scoped>\n",
              "    .dataframe tbody tr th:only-of-type {\n",
              "        vertical-align: middle;\n",
              "    }\n",
              "\n",
              "    .dataframe tbody tr th {\n",
              "        vertical-align: top;\n",
              "    }\n",
              "\n",
              "    .dataframe thead th {\n",
              "        text-align: right;\n",
              "    }\n",
              "</style>\n",
              "<table border=\"1\" class=\"dataframe\">\n",
              "  <thead>\n",
              "    <tr style=\"text-align: right;\">\n",
              "      <th></th>\n",
              "      <th>groupid</th>\n",
              "      <th>er1</th>\n",
              "      <th>er2</th>\n",
              "      <th>er3</th>\n",
              "      <th>score</th>\n",
              "    </tr>\n",
              "  </thead>\n",
              "  <tbody>\n",
              "    <tr>\n",
              "      <th>0</th>\n",
              "      <td>1</td>\n",
              "      <td>7</td>\n",
              "      <td>4</td>\n",
              "      <td>27</td>\n",
              "      <td>144.6</td>\n",
              "    </tr>\n",
              "    <tr>\n",
              "      <th>1</th>\n",
              "      <td>2</td>\n",
              "      <td>30</td>\n",
              "      <td>26</td>\n",
              "      <td>24</td>\n",
              "      <td>33.2</td>\n",
              "    </tr>\n",
              "    <tr>\n",
              "      <th>2</th>\n",
              "      <td>3</td>\n",
              "      <td>36</td>\n",
              "      <td>4</td>\n",
              "      <td>27</td>\n",
              "      <td>86.6</td>\n",
              "    </tr>\n",
              "    <tr>\n",
              "      <th>3</th>\n",
              "      <td>1</td>\n",
              "      <td>12</td>\n",
              "      <td>20</td>\n",
              "      <td>26</td>\n",
              "      <td>86.8</td>\n",
              "    </tr>\n",
              "    <tr>\n",
              "      <th>4</th>\n",
              "      <td>3</td>\n",
              "      <td>34</td>\n",
              "      <td>7</td>\n",
              "      <td>29</td>\n",
              "      <td>81.2</td>\n",
              "    </tr>\n",
              "    <tr>\n",
              "      <th>5</th>\n",
              "      <td>1</td>\n",
              "      <td>0</td>\n",
              "      <td>18</td>\n",
              "      <td>26</td>\n",
              "      <td>116.8</td>\n",
              "    </tr>\n",
              "    <tr>\n",
              "      <th>6</th>\n",
              "      <td>3</td>\n",
              "      <td>27</td>\n",
              "      <td>18</td>\n",
              "      <td>1</td>\n",
              "      <td>67.8</td>\n",
              "    </tr>\n",
              "    <tr>\n",
              "      <th>7</th>\n",
              "      <td>1</td>\n",
              "      <td>28</td>\n",
              "      <td>5</td>\n",
              "      <td>27</td>\n",
              "      <td>99.6</td>\n",
              "    </tr>\n",
              "    <tr>\n",
              "      <th>8</th>\n",
              "      <td>3</td>\n",
              "      <td>20</td>\n",
              "      <td>19</td>\n",
              "      <td>18</td>\n",
              "      <td>75.4</td>\n",
              "    </tr>\n",
              "    <tr>\n",
              "      <th>9</th>\n",
              "      <td>2</td>\n",
              "      <td>26</td>\n",
              "      <td>22</td>\n",
              "      <td>16</td>\n",
              "      <td>54.8</td>\n",
              "    </tr>\n",
              "    <tr>\n",
              "      <th>10</th>\n",
              "      <td>3</td>\n",
              "      <td>14</td>\n",
              "      <td>4</td>\n",
              "      <td>7</td>\n",
              "      <td>134.6</td>\n",
              "    </tr>\n",
              "    <tr>\n",
              "      <th>11</th>\n",
              "      <td>2</td>\n",
              "      <td>33</td>\n",
              "      <td>13</td>\n",
              "      <td>18</td>\n",
              "      <td>67.4</td>\n",
              "    </tr>\n",
              "    <tr>\n",
              "      <th>12</th>\n",
              "      <td>1</td>\n",
              "      <td>27</td>\n",
              "      <td>17</td>\n",
              "      <td>11</td>\n",
              "      <td>68.8</td>\n",
              "    </tr>\n",
              "    <tr>\n",
              "      <th>13</th>\n",
              "      <td>3</td>\n",
              "      <td>18</td>\n",
              "      <td>24</td>\n",
              "      <td>10</td>\n",
              "      <td>66.0</td>\n",
              "    </tr>\n",
              "    <tr>\n",
              "      <th>14</th>\n",
              "      <td>2</td>\n",
              "      <td>38</td>\n",
              "      <td>7</td>\n",
              "      <td>14</td>\n",
              "      <td>76.2</td>\n",
              "    </tr>\n",
              "    <tr>\n",
              "      <th>15</th>\n",
              "      <td>1</td>\n",
              "      <td>28</td>\n",
              "      <td>18</td>\n",
              "      <td>7</td>\n",
              "      <td>64.6</td>\n",
              "    </tr>\n",
              "    <tr>\n",
              "      <th>16</th>\n",
              "      <td>2</td>\n",
              "      <td>29</td>\n",
              "      <td>16</td>\n",
              "      <td>29</td>\n",
              "      <td>64.2</td>\n",
              "    </tr>\n",
              "    <tr>\n",
              "      <th>17</th>\n",
              "      <td>3</td>\n",
              "      <td>27</td>\n",
              "      <td>25</td>\n",
              "      <td>22</td>\n",
              "      <td>42.6</td>\n",
              "    </tr>\n",
              "    <tr>\n",
              "      <th>18</th>\n",
              "      <td>1</td>\n",
              "      <td>4</td>\n",
              "      <td>4</td>\n",
              "      <td>20</td>\n",
              "      <td>152.0</td>\n",
              "    </tr>\n",
              "    <tr>\n",
              "      <th>19</th>\n",
              "      <td>3</td>\n",
              "      <td>21</td>\n",
              "      <td>12</td>\n",
              "      <td>17</td>\n",
              "      <td>94.6</td>\n",
              "    </tr>\n",
              "    <tr>\n",
              "      <th>20</th>\n",
              "      <td>2</td>\n",
              "      <td>27</td>\n",
              "      <td>17</td>\n",
              "      <td>5</td>\n",
              "      <td>70.0</td>\n",
              "    </tr>\n",
              "    <tr>\n",
              "      <th>21</th>\n",
              "      <td>2</td>\n",
              "      <td>38</td>\n",
              "      <td>26</td>\n",
              "      <td>8</td>\n",
              "      <td>20.4</td>\n",
              "    </tr>\n",
              "    <tr>\n",
              "      <th>22</th>\n",
              "      <td>1</td>\n",
              "      <td>14</td>\n",
              "      <td>9</td>\n",
              "      <td>17</td>\n",
              "      <td>117.6</td>\n",
              "    </tr>\n",
              "    <tr>\n",
              "      <th>23</th>\n",
              "      <td>2</td>\n",
              "      <td>39</td>\n",
              "      <td>30</td>\n",
              "      <td>2</td>\n",
              "      <td>7.6</td>\n",
              "    </tr>\n",
              "    <tr>\n",
              "      <th>24</th>\n",
              "      <td>3</td>\n",
              "      <td>8</td>\n",
              "      <td>12</td>\n",
              "      <td>10</td>\n",
              "      <td>122.0</td>\n",
              "    </tr>\n",
              "    <tr>\n",
              "      <th>25</th>\n",
              "      <td>1</td>\n",
              "      <td>1</td>\n",
              "      <td>19</td>\n",
              "      <td>6</td>\n",
              "      <td>115.8</td>\n",
              "    </tr>\n",
              "    <tr>\n",
              "      <th>26</th>\n",
              "      <td>2</td>\n",
              "      <td>24</td>\n",
              "      <td>24</td>\n",
              "      <td>24</td>\n",
              "      <td>51.2</td>\n",
              "    </tr>\n",
              "    <tr>\n",
              "      <th>27</th>\n",
              "      <td>2</td>\n",
              "      <td>16</td>\n",
              "      <td>27</td>\n",
              "      <td>12</td>\n",
              "      <td>60.6</td>\n",
              "    </tr>\n",
              "    <tr>\n",
              "      <th>28</th>\n",
              "      <td>1</td>\n",
              "      <td>5</td>\n",
              "      <td>26</td>\n",
              "      <td>2</td>\n",
              "      <td>87.6</td>\n",
              "    </tr>\n",
              "    <tr>\n",
              "      <th>29</th>\n",
              "      <td>3</td>\n",
              "      <td>23</td>\n",
              "      <td>29</td>\n",
              "      <td>25</td>\n",
              "      <td>38.0</td>\n",
              "    </tr>\n",
              "  </tbody>\n",
              "</table>\n",
              "</div>"
            ],
            "text/plain": [
              "    groupid  er1  er2  er3  score\n",
              "0         1    7    4   27  144.6\n",
              "1         2   30   26   24   33.2\n",
              "2         3   36    4   27   86.6\n",
              "3         1   12   20   26   86.8\n",
              "4         3   34    7   29   81.2\n",
              "5         1    0   18   26  116.8\n",
              "6         3   27   18    1   67.8\n",
              "7         1   28    5   27   99.6\n",
              "8         3   20   19   18   75.4\n",
              "9         2   26   22   16   54.8\n",
              "10        3   14    4    7  134.6\n",
              "11        2   33   13   18   67.4\n",
              "12        1   27   17   11   68.8\n",
              "13        3   18   24   10   66.0\n",
              "14        2   38    7   14   76.2\n",
              "15        1   28   18    7   64.6\n",
              "16        2   29   16   29   64.2\n",
              "17        3   27   25   22   42.6\n",
              "18        1    4    4   20  152.0\n",
              "19        3   21   12   17   94.6\n",
              "20        2   27   17    5   70.0\n",
              "21        2   38   26    8   20.4\n",
              "22        1   14    9   17  117.6\n",
              "23        2   39   30    2    7.6\n",
              "24        3    8   12   10  122.0\n",
              "25        1    1   19    6  115.8\n",
              "26        2   24   24   24   51.2\n",
              "27        2   16   27   12   60.6\n",
              "28        1    5   26    2   87.6\n",
              "29        3   23   29   25   38.0"
            ]
          },
          "metadata": {
            "tags": []
          },
          "execution_count": 17
        }
      ]
    },
    {
      "cell_type": "markdown",
      "metadata": {
        "id": "gPCck3iriEDV"
      },
      "source": [
        "- As we can easily see, we are not able to have a linear model (especially in type 3 error)."
      ]
    },
    {
      "cell_type": "code",
      "metadata": {
        "colab": {
          "base_uri": "https://localhost:8080/"
        },
        "id": "t0c9GuLfaleH",
        "outputId": "011e315d-4b31-48a7-84e2-0e6fe7bcb711"
      },
      "source": [
        "import statsmodels.api as sm\n",
        "\n",
        "X1 = df[[\"er1\", \"er2\", \"er3\"]]\n",
        "Y1 = df[\"score\"]\n",
        "\n",
        "X1 = sm.add_constant(X1) # adding a constant\n",
        "model1 = sm.OLS(Y1, X1).fit()\n",
        "predictions1 = model1.predict(X1) \n",
        "print_model1 = model1.summary()\n",
        "print(print_model1)"
      ],
      "execution_count": null,
      "outputs": [
        {
          "output_type": "stream",
          "text": [
            "                            OLS Regression Results                            \n",
            "==============================================================================\n",
            "Dep. Variable:                  score   R-squared:                       1.000\n",
            "Model:                            OLS   Adj. R-squared:                  1.000\n",
            "Method:                 Least Squares   F-statistic:                 3.152e+30\n",
            "Date:                Mon, 05 Jul 2021   Prob (F-statistic):               0.00\n",
            "Time:                        15:14:51   Log-Likelihood:                 872.03\n",
            "No. Observations:                  30   AIC:                            -1736.\n",
            "Df Residuals:                      26   BIC:                            -1730.\n",
            "Df Model:                           3                                         \n",
            "Covariance Type:            nonrobust                                         \n",
            "==============================================================================\n",
            "                 coef    std err          t      P>|t|      [0.025      0.975]\n",
            "------------------------------------------------------------------------------\n",
            "const        176.0000   4.25e-14   4.14e+15      0.000     176.000     176.000\n",
            "er1           -2.0000   1.01e-15  -1.98e+15      0.000      -2.000      -2.000\n",
            "er2           -3.0000   1.45e-15  -2.07e+15      0.000      -3.000      -3.000\n",
            "er3           -0.2000   1.34e-15   -1.5e+14      0.000      -0.200      -0.200\n",
            "==============================================================================\n",
            "Omnibus:                        2.183   Durbin-Watson:                   0.945\n",
            "Prob(Omnibus):                  0.336   Jarque-Bera (JB):                1.672\n",
            "Skew:                          -0.405   Prob(JB):                        0.433\n",
            "Kurtosis:                       2.174   Cond. No.                         126.\n",
            "==============================================================================\n",
            "\n",
            "Warnings:\n",
            "[1] Standard Errors assume that the covariance matrix of the errors is correctly specified.\n"
          ],
          "name": "stdout"
        }
      ]
    },
    {
      "cell_type": "markdown",
      "metadata": {
        "id": "bmehZ65XBRWj"
      },
      "source": [
        "# **Ανάλυση:**\n",
        "Απο τον παραπάνω πίνακα θα μπορούσαμε να πάρουμε πολλές πληροφορίες για το μοντέλο Γραμμικής Παλινδρόμησης που αναπτύξαμε. Αρχικά σύμφωνα με τον παραπάνω τύπο:\n",
        " **score= a * er1 + b * er2 + c * er3 + d**  οι τιμές έχουν ώς εξής:\n",
        "\n",
        "        - a (bias) =  176.0000  \n",
        "        - b = -2.0000 \n",
        "        - c = -3.0000 \n",
        "        - d = -0.2000 \n",
        "\n",
        "Αυτό που προκαλεί ιδιαίτερη εντύπωση απο τον παραπάνω σταστιστικό πίνακα του μοντέλου μας είναι η τιμή του P> |t| = 0.000 για όλα τα coefficients αλλά και το R-squared που ισούται με 1,000, δηλαδή την βέλτιστη τιμή. \n",
        "\n",
        "Στην περίπτωση του P value, η χαμηλή τιμή αυτού δείχνει οτι υπάρχει μια ισχυρή συχέτηση ανάμεσα στα coefficients και στις μεταβλητές στόχο. \n",
        "\n",
        "Στη συνέχεια, κοιτάζοντας την τιμή R², έχουμε 1. Επομένως, το 100% της μεταβλητότητας των \"y\" μεταβλητών εξαρτάται απο τις τιμές των ανεξάρτητων μεταβλητών. Mε άλλα λόγια, η μεταβλητότητα των scores εξαρτάται σε απόλυτο βαθμό απο τις τιμές των errors. \n",
        "\n",
        "Οι τιμές p -value και R-squared μετρούν διαφορετικά πράγματα. Η τιμή p δείχνει ότι υπάρχει μια σημαντική σχέση που περιγράφεται από το μοντέλο και το R squared μετρά τον βαθμό στον οποίο τα δεδομένα εξηγούνται από το μοντέλο.Σύμφωνα με αυτή τη σκέψη, μπορούμε να πούμε πως και οι 3 μεταβλητές (δηλαδή τα 3 είδη λαθών) είναι στατιστικά σημαντικές γι' αυτό και η τιμή του R squared είναι 1.Aκόμα, αν παρατηρήσουμε το t-statistic θα μπορούσαμε να δούμε πως είναι αρκετά υψηλό, κάτι που επιβεβαιώνει την σκέψη οτι τα δεδομένα μου είναι statistically significant. Αυτό, βέβαια, οδηγεί και σε overfitting καθώς θα είναι αρκετά δύσκολο για το μοντέλο μου να προβλέψει νέες τιμές στα scores σε νέα δεδομένα (δηλαδή νέα error values). To overfitting υποδεικνύει και η μεγάλη τιμή που παίρνει το bias(176.0000). \n",
        "\n"
      ]
    }
  ]
}